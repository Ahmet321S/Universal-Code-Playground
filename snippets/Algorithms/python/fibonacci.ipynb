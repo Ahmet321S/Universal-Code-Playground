{
  "metadata": {
    "kernelspec": {
      "name": "xpython",
      "display_name": "Python 3.13 (XPython)",
      "language": "python"
    },
    "language_info": {
      "file_extension": ".py",
      "mimetype": "text/x-python",
      "name": "python",
      "version": "3.13.1"
    }
  },
  "nbformat_minor": 5,
  "nbformat": 4,
  "cells": [
    {
      "id": "cce9d36f-b5b9-4910-a2c4-522d1dbd9aa3",
      "cell_type": "code",
      "source": "def fibonacci_iterative(n):\n    \"\"\"\n    Generates the Fibonacci sequence up to the n-th term iteratively.\n    Author: IamBisrutPyne\n    Time Complexity: O(n)\n    Space Complexity: O(1) (excluding the list of results)\n    \"\"\"\n    if n < 0:\n        raise ValueError(\"Input must be a non-negative integer.\")\n    if n == 0:\n        return []\n    if n == 1:\n        return [0]\n\n    # Initialize sequence with the first two terms: F(0)=0, F(1)=1\n    sequence = [0, 1]\n    \n    a, b = 0, 1\n    for _ in range(2, n):\n        next_val = a + b\n        sequence.append(next_val)\n        \n        # Shift values\n        a = b\n        b = next_val\n        \n    return sequence\n\nn_terms = 20\nresult = fibonacci_iterative(n_terms)\nprint(f\"Fibonacci sequence up to {n_terms} terms: {result}\")",
      "metadata": {
        "trusted": true
      },
      "outputs": [
        {
          "name": "stdout",
          "output_type": "stream",
          "text": "Fibonacci sequence up to 10 terms: [0, 1, 1, 2, 3, 5, 8, 13, 21, 34]\n"
        }
      ],
      "execution_count": 1
    },
    {
      "id": "f1aa0b69-6048-441f-a93b-f7896398e4a8",
      "cell_type": "code",
      "source": "",
      "metadata": {
        "trusted": true
      },
      "outputs": [],
      "execution_count": null
    }
  ]
}