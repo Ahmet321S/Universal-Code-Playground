{
"cells": [
{
"cell_type": "markdown",
"metadata": {},
"source": [
"# Factorial Calculation (Iterative)\n",
"\n",
"Metadata Header (MANDATORY)\n",
"\n",
"| Field | Value |\n",
"| :--- | :--- |\n",
"| Program Title | Factorial Calculation (Iterative) |\n",
"| Author | [Your Name/Handle] |\n",
"| Date | 2025-10-10 |\n",
"| Language | Python |\n",
"| Time Complexity | O(n) |\n",
"| Space Complexity | O(1) |\n",
"\n",
"Description: Computes the factorial of a non-negative integer using an iterative approach, providing a robust solution that avoids recursion limits."
]
},
{
"cell_type": "code",
"execution_count": null,
"metadata": {},
"outputs": [],
"source": [
"def factorial(n):\n",
"    """\n",
"    Calculates n! iteratively.\n",
"    Uses O(1) space and O(n) time complexity.\n",
"    """\n",
"    # Factorial is not defined for negative numbers\n",
"    if n < 0:\n",
"        raise ValueError("Factorial is not defined for negative numbers.")\n",
"    if n == 0:\n",
"        return 1\n",
"\n",
"    # Python integers handle arbitrary precision, avoiding standard integer overflow\n",
"    result = 1\n",
"    for i in range(1, n + 1):\n",
"        result *= i\n",
"    return result"
]
},
{
"cell_type": "code",
"execution_count": null,
"metadata": {},
"outputs": [],
"source": [
"# --- Example Usage ---\n",
"\n",
"# Test case 1: Positive number\n",
"num_a = 5\n",
"print(f"Factorial of {num_a} is: {factorial(num_a)}")\n",
"\n",
"# Test case 2: Zero\n",
"num_b = 0\n",
"print(f"Factorial of {num_b} is: {factorial(num_b)}")\n",
"\n",
"# Test case 3: Larger number\n",
"num_c = 10\n",
"print(f"Factorial of {num_c} is: {factorial(num_c)}")"
]
}
],
"metadata": {
"kernelspec": {
"display_name": "Python 3",
"language": "python",
"name": "python3"
},
"language_info": {
"codemirror_mode": {
"name": "ipython",
"version": 3
},
"file_extension": ".py",
"mimetype": "text/x-python",
"name": "python",
"nbconvert_exporter": "python",
"pygments_lexer": "ipython3",
"version": "3.11.4"
}
},
"nbformat": 4,
"nbformat_minor": 5
}
