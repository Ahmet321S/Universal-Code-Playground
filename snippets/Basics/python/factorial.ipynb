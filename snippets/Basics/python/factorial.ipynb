{
  "metadata": {
    "kernelspec": {
      "name": "xpython",
      "display_name": "Python 3.13 (XPython)",
      "language": "python"
    },
    "language_info": {
      "file_extension": ".py",
      "mimetype": "text/x-python",
      "name": "python",
      "version": "3.13.1"
    }
  },
  "nbformat_minor": 5,
  "nbformat": 4,
  "cells": [
    {
      "id": "b8836457-a6b4-4606-8901-23f29dab87a5",
      "cell_type": "code",
      "source": "# Metadata Header (MANDATORY)\n# -----------------------------\n# Program Title: Factorial Calculation (Iterative)\n# Author: IamBisrutPyne\n# Date: 2025-10-11\n#\n# Description: Computes the factorial of a non-negative integer using an iterative approach.\n#\n# Language: Python\n#\n# Time Complexity: O(n)\n# Space Complexity: O(1)\n# -----------------------------\n\ndef factorial(n):\n    \"\"\"\n    Calculates n! iteratively.\n    Uses O(1) space and O(n) time complexity.\n    \"\"\"\n    # Factorial is not defined for negative numbers\n    if n < 0:\n        raise ValueError(\"Factorial is not defined for negative numbers.\")\n    if n == 0:\n        return 1\n\n    result = 1\n    for i in range(1, n + 1):\n        result *= i\n    return result\n\n# --- Example Usage in Jupyter ---\n\n# Test case 1: Positive number\nnum_a = 5\nprint(f\"Factorial of {num_a} is: {factorial(num_a)}\")\n\n# Test case 2: Zero\nnum_b = 0\nprint(f\"Factorial of {num_b} is: {factorial(num_b)}\")\n\n# Test case 3: Larger number\nnum_c = 10\nprint(f\"Factorial of {num_c} is: {factorial(num_c)}\")",
      "metadata": {
        "trusted": true
      },
      "outputs": [
        {
          "name": "stdout",
          "output_type": "stream",
          "text": "Factorial of 5 is: 120\nFactorial of 0 is: 1\nFactorial of 10 is: 3628800\n"
        }
      ],
      "execution_count": 1
    },
    {
      "id": "51890c0b-cedb-4cce-9a86-3a3c0936aab8",
      "cell_type": "raw",
      "source": "",
      "metadata": {}
    }
  ]
}